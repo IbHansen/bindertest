{
 "cells": [
  {
   "cell_type": "markdown",
   "metadata": {
    "slideshow": {
     "slide_type": "slide"
    }
   },
   "source": [
    "# A notebook with a simple Solow model \n",
    "You ca run each cell by pressing the run tool or shift+enter"
   ]
  },
  {
   "cell_type": "markdown",
   "metadata": {
    "slideshow": {
     "slide_type": "slide"
    }
   },
   "source": [
    "# Import Python libraries"
   ]
  },
  {
   "cell_type": "code",
   "execution_count": 1,
   "metadata": {
    "slideshow": {
     "slide_type": "-"
    }
   },
   "outputs": [
    {
     "data": {
      "text/html": [
       "\n",
       "            <style>\n",
       "                div#notebook-container    { width: 95%; }\n",
       "                div#menubar-container     { width: 65%; }\n",
       "                div#maintoolbar-container { width: 99%; }\n",
       "            </style>\n",
       "            "
      ],
      "text/plain": [
       "<IPython.core.display.HTML object>"
      ]
     },
     "metadata": {},
     "output_type": "display_data"
    },
    {
     "data": {
      "text/html": [
       "            <script>\n",
       "                // AUTORUN ALL CELLS ON NOTEBOOK-LOAD!\n",
       "                require(\n",
       "                    ['base/js/namespace', 'jquery'], \n",
       "                    function(jupyter, $) {\n",
       "                        $(jupyter.events).on('kernel_ready.Kernel', function () {\n",
       "                            console.log('Auto-running all cells-below...');\n",
       "                            jupyter.actions.call('jupyter-notebook:run-all-cells-below');\n",
       "                            jupyter.actions.call('jupyter-notebook:save-notebook');\n",
       "                        });\n",
       "                    }\n",
       "                );\n",
       "            </script>"
      ],
      "text/plain": [
       "<IPython.core.display.HTML object>"
      ]
     },
     "metadata": {},
     "output_type": "display_data"
    }
   ],
   "source": [
    "%matplotlib inline\n",
    "import pandas as pd\n",
    "from modelclass import model\n",
    "model.modelflow_auto()"
   ]
  },
  {
   "cell_type": "markdown",
   "metadata": {
    "slideshow": {
     "slide_type": "slide"
    }
   },
   "source": [
    "# Specify the model \n",
    "The explode function will rewrite the business logic."
   ]
  },
  {
   "cell_type": "code",
   "execution_count": 31,
   "metadata": {
    "slideshow": {
     "slide_type": "-"
    }
   },
   "outputs": [
    {
     "name": "stdout",
     "output_type": "stream",
     "text": [
      "Y         = a * k**alfa * l **(1-alfa) \n",
      "C         = (1-SAVING_RATIO)  * Y \n",
      "I         = Y - C \n",
      "diff(K)   = I-depreciates_rate * K(-1)\n",
      "diff(l)   = labor_growth * L(-1) \n",
      "K_intense = K/L \n",
      "\n"
     ]
    }
   ],
   "source": [
    "fsolow = '''\\\n",
    "Y         = a * k**alfa * l **(1-alfa) \n",
    "C         = (1-SAVING_RATIO)  * Y \n",
    "I         = Y - C \n",
    "diff(K)   = I-depreciates_rate * K(-1)\n",
    "diff(l)   = labor_growth * L(-1) \n",
    "K_intense = K/L \n",
    "'''\n",
    "print(fsolow)"
   ]
  },
  {
   "cell_type": "markdown",
   "metadata": {
    "slideshow": {
     "slide_type": "slide"
    }
   },
   "source": [
    "# Create a model class instance"
   ]
  },
  {
   "cell_type": "code",
   "execution_count": 34,
   "metadata": {
    "slideshow": {
     "slide_type": "-"
    }
   },
   "outputs": [
    {
     "name": "stdout",
     "output_type": "stream",
     "text": [
      "FRML <> Y         = A * K**ALFA * L **(1-ALFA)  $\n",
      "FRML <> C         = (1-SAVING_RATIO)  * Y  $\n",
      "FRML <> I         = Y - C  $\n",
      "FRML <> K=K(-1)+(I-DEPRECIATES_RATE * K(-1))$\n",
      "FRML <> L=L(-1)+(LABOR_GROWTH * L(-1))$\n",
      "FRML <> K_INTENSE = K/L  $\n"
     ]
    }
   ],
   "source": [
    "msolow = model.from_eq(fsolow,modelname='Solow model')\n",
    "print(msolow.equations)  "
   ]
  },
  {
   "cell_type": "markdown",
   "metadata": {
    "slideshow": {
     "slide_type": "slide"
    }
   },
   "source": [
    "# Show model structure"
   ]
  },
  {
   "cell_type": "code",
   "execution_count": 30,
   "metadata": {
    "slideshow": {
     "slide_type": "subslide"
    }
   },
   "outputs": [
    {
     "data": {
      "image/svg+xml": [
       "<svg height=\"318pt\" viewBox=\"0.00 0.00 360.00 317.93\" width=\"360pt\" xmlns=\"http://www.w3.org/2000/svg\" xmlns:xlink=\"http://www.w3.org/1999/xlink\">\n",
       "<g class=\"graph\" id=\"graph0\" transform=\"scale(0.744571 0.744571) rotate(0) translate(4 423)\">\n",
       "<title>TD</title>\n",
       "<polygon fill=\"white\" points=\"-4,4 -4,-423 479.5,-423 479.5,4 -4,4\" stroke=\"none\"/>\n",
       "<text font-family=\"Times New Roman,serif\" font-size=\"14.00\" text-anchor=\"middle\" x=\"237.75\" y=\"-7.8\">A_model_graph</text>\n",
       "<!-- C -->\n",
       "<g class=\"node\" id=\"node1\"><title>C</title>\n",
       "<g id=\"a_node1\"><a xlink:title=\"C\">\n",
       "<polygon fill=\"#63b8ff\" points=\"313,-347 259,-347 259,-311 313,-311 313,-347\" stroke=\"black\"/>\n",
       "<text fill=\"blue\" font-family=\"Times New Roman,serif\" font-size=\"14.00\" text-anchor=\"start\" x=\"280\" y=\"-324.8\">C:</text>\n",
       "</a>\n",
       "</g>\n",
       "</g>\n",
       "<!-- I -->\n",
       "<g class=\"node\" id=\"node12\"><title>I</title>\n",
       "<g id=\"a_node12\"><a xlink:title=\"I\">\n",
       "<polygon fill=\"#63b8ff\" points=\"286,-275 232,-275 232,-239 286,-239 286,-275\" stroke=\"black\"/>\n",
       "<text fill=\"blue\" font-family=\"Times New Roman,serif\" font-size=\"14.00\" text-anchor=\"start\" x=\"255\" y=\"-252.8\">I:</text>\n",
       "</a>\n",
       "</g>\n",
       "</g>\n",
       "<!-- C&#45;&gt;I -->\n",
       "<g class=\"edge\" id=\"edge1\"><title>C-&gt;I</title>\n",
       "<path d=\"M279.326,-310.697C276.285,-302.813 272.617,-293.304 269.239,-284.546\" fill=\"none\" stroke=\"black\"/>\n",
       "<polygon fill=\"black\" points=\"272.462,-283.175 265.597,-275.104 265.931,-285.694 272.462,-283.175\" stroke=\"black\"/>\n",
       "</g>\n",
       "<!-- Y -->\n",
       "<g class=\"node\" id=\"node2\"><title>Y</title>\n",
       "<g id=\"a_node2\"><a xlink:title=\"Y\">\n",
       "<polygon fill=\"#63b8ff\" points=\"272,-131 218,-131 218,-95 272,-95 272,-131\" stroke=\"black\"/>\n",
       "<text fill=\"blue\" font-family=\"Times New Roman,serif\" font-size=\"14.00\" text-anchor=\"start\" x=\"239\" y=\"-108.8\">Y:</text>\n",
       "</a>\n",
       "</g>\n",
       "</g>\n",
       "<!-- Y&#45;&gt;C -->\n",
       "<g class=\"edge\" id=\"edge2\"><title>Y-&gt;C</title>\n",
       "<path d=\"M255.19,-131.265C260.92,-141.436 267.92,-154.686 273,-167 285.761,-197.931 290.057,-205.907 295,-239 298.078,-259.606 295.458,-283.057 292.267,-300.712\" fill=\"none\" stroke=\"black\"/>\n",
       "<polygon fill=\"black\" points=\"288.763,-300.388 290.253,-310.878 295.63,-301.749 288.763,-300.388\" stroke=\"black\"/>\n",
       "</g>\n",
       "<!-- Y&#45;&gt;I -->\n",
       "<g class=\"edge\" id=\"edge9\"><title>Y-&gt;I</title>\n",
       "<path d=\"M249.77,-131.033C252.43,-141.35 255.501,-154.827 257,-167 259.535,-187.579 259.962,-211.031 259.795,-228.693\" fill=\"none\" stroke=\"black\"/>\n",
       "<polygon fill=\"black\" points=\"256.293,-228.808 259.627,-238.865 263.292,-228.924 256.293,-228.808\" stroke=\"black\"/>\n",
       "</g>\n",
       "<!-- ALFA -->\n",
       "<g class=\"node\" id=\"node3\"><title>ALFA</title>\n",
       "<g id=\"a_node3\"><a xlink:title=\"ALFA\">\n",
       "<polygon fill=\"yellow\" points=\"176,-203 122,-203 122,-167 176,-167 176,-203\" stroke=\"black\"/>\n",
       "<text fill=\"blue\" font-family=\"Times New Roman,serif\" font-size=\"14.00\" text-anchor=\"start\" x=\"129\" y=\"-180.8\">ALFA:</text>\n",
       "</a>\n",
       "</g>\n",
       "</g>\n",
       "<!-- ALFA&#45;&gt;Y -->\n",
       "<g class=\"edge\" id=\"edge6\"><title>ALFA-&gt;Y</title>\n",
       "<path d=\"M172.73,-166.697C184.937,-157.796 199.985,-146.823 213.184,-137.199\" fill=\"none\" stroke=\"black\"/>\n",
       "<polygon fill=\"black\" points=\"215.525,-139.824 221.543,-131.104 211.4,-134.168 215.525,-139.824\" stroke=\"black\"/>\n",
       "</g>\n",
       "<!-- L(&#45;1) -->\n",
       "<g class=\"node\" id=\"node4\"><title>L(-1)</title>\n",
       "<g id=\"a_node4\"><a xlink:title=\"L\">\n",
       "<polygon fill=\"springgreen\" points=\"368,-131 314,-131 314,-95 368,-95 368,-131\" stroke=\"black\"/>\n",
       "<text fill=\"blue\" font-family=\"Times New Roman,serif\" font-size=\"14.00\" text-anchor=\"start\" x=\"321\" y=\"-108.8\">L(-1):L</text>\n",
       "</a>\n",
       "</g>\n",
       "</g>\n",
       "<!-- L -->\n",
       "<g class=\"node\" id=\"node6\"><title>L</title>\n",
       "<g id=\"a_node6\"><a xlink:title=\"L\">\n",
       "<polygon fill=\"#63b8ff\" points=\"396,-203 342,-203 342,-167 396,-167 396,-203\" stroke=\"black\"/>\n",
       "<text fill=\"blue\" font-family=\"Times New Roman,serif\" font-size=\"14.00\" text-anchor=\"start\" x=\"363\" y=\"-180.8\">L:</text>\n",
       "</a>\n",
       "</g>\n",
       "</g>\n",
       "<!-- L(&#45;1)&#45;&gt;L -->\n",
       "<g class=\"edge\" id=\"edge8\"><title>L(-1)-&gt;L</title>\n",
       "<path d=\"M353.737,-131.104C357.66,-138.876 361.645,-148.257 364.772,-156.949\" fill=\"none\" stroke=\"black\"/>\n",
       "<polygon fill=\"black\" points=\"361.533,-158.3 367.994,-166.697 368.179,-156.103 361.533,-158.3\" stroke=\"black\"/>\n",
       "</g>\n",
       "<!-- SAVING_RATIO -->\n",
       "<g class=\"node\" id=\"node5\"><title>SAVING_RATIO</title>\n",
       "<g id=\"a_node5\"><a xlink:title=\"SAVING_RATIO\">\n",
       "<polygon fill=\"yellow\" points=\"345.5,-419 226.5,-419 226.5,-383 345.5,-383 345.5,-419\" stroke=\"black\"/>\n",
       "<text fill=\"blue\" font-family=\"Times New Roman,serif\" font-size=\"14.00\" text-anchor=\"start\" x=\"233\" y=\"-396.8\">SAVING_RATIO:</text>\n",
       "</a>\n",
       "</g>\n",
       "</g>\n",
       "<!-- SAVING_RATIO&#45;&gt;C -->\n",
       "<g class=\"edge\" id=\"edge7\"><title>SAVING_RATIO-&gt;C</title>\n",
       "<path d=\"M286,-382.697C286,-374.983 286,-365.712 286,-357.112\" fill=\"none\" stroke=\"black\"/>\n",
       "<polygon fill=\"black\" points=\"289.5,-357.104 286,-347.104 282.5,-357.104 289.5,-357.104\" stroke=\"black\"/>\n",
       "</g>\n",
       "<!-- L&#45;&gt;Y -->\n",
       "<g class=\"edge\" id=\"edge13\"><title>L-&gt;Y</title>\n",
       "<path d=\"M341.788,-168.638C323.94,-158.563 300.405,-145.277 281.012,-134.329\" fill=\"none\" stroke=\"black\"/>\n",
       "<polygon fill=\"black\" points=\"282.578,-131.194 272.149,-129.326 279.137,-137.29 282.578,-131.194\" stroke=\"black\"/>\n",
       "</g>\n",
       "<!-- L&#45;&gt;L(&#45;1) -->\n",
       "<g class=\"edge\" id=\"edge17\"><title>L-&gt;L(-1)</title>\n",
       "<path d=\"M356.163,-166.697C352.239,-158.898 348.261,-149.509 345.148,-140.829\" fill=\"none\" stroke=\"black\"/>\n",
       "<polygon fill=\"black\" points=\"348.398,-139.509 341.947,-131.104 341.749,-141.697 348.398,-139.509\" stroke=\"black\"/>\n",
       "</g>\n",
       "<!-- K_INTENSE -->\n",
       "<g class=\"node\" id=\"node7\"><title>K_INTENSE</title>\n",
       "<g id=\"a_node7\"><a xlink:title=\"K_INTENSE\">\n",
       "<polygon fill=\"#63b8ff\" points=\"267.5,-59 176.5,-59 176.5,-23 267.5,-23 267.5,-59\" stroke=\"black\"/>\n",
       "<text fill=\"blue\" font-family=\"Times New Roman,serif\" font-size=\"14.00\" text-anchor=\"start\" x=\"183\" y=\"-36.8\">K_INTENSE:</text>\n",
       "</a>\n",
       "</g>\n",
       "</g>\n",
       "<!-- L&#45;&gt;K_INTENSE -->\n",
       "<g class=\"edge\" id=\"edge11\"><title>L-&gt;K_INTENSE</title>\n",
       "<path d=\"M376.692,-166.851C384.072,-147.528 392.067,-116.076 377,-95 354.57,-63.6255 312.408,-50.6186 277.713,-45.3236\" fill=\"none\" stroke=\"black\"/>\n",
       "<polygon fill=\"black\" points=\"278.061,-41.8389 267.683,-43.9707 277.125,-48.7761 278.061,-41.8389\" stroke=\"black\"/>\n",
       "</g>\n",
       "<!-- DEPRECIATES_RATE -->\n",
       "<g class=\"node\" id=\"node8\"><title>DEPRECIATES_RATE</title>\n",
       "<g id=\"a_node8\"><a xlink:title=\"DEPRECIATES_RATE\">\n",
       "<polygon fill=\"yellow\" points=\"154,-275 0,-275 0,-239 154,-239 154,-275\" stroke=\"black\"/>\n",
       "<text fill=\"blue\" font-family=\"Times New Roman,serif\" font-size=\"14.00\" text-anchor=\"start\" x=\"6\" y=\"-252.8\">DEPRECIATES_RATE:</text>\n",
       "</a>\n",
       "</g>\n",
       "</g>\n",
       "<!-- K -->\n",
       "<g class=\"node\" id=\"node10\"><title>K</title>\n",
       "<g id=\"a_node10\"><a xlink:title=\"K\">\n",
       "<polygon fill=\"#63b8ff\" points=\"104,-203 50,-203 50,-167 104,-167 104,-203\" stroke=\"black\"/>\n",
       "<text fill=\"blue\" font-family=\"Times New Roman,serif\" font-size=\"14.00\" text-anchor=\"start\" x=\"71\" y=\"-180.8\">K:</text>\n",
       "</a>\n",
       "</g>\n",
       "</g>\n",
       "<!-- DEPRECIATES_RATE&#45;&gt;K -->\n",
       "<g class=\"edge\" id=\"edge4\"><title>DEPRECIATES_RATE-&gt;K</title>\n",
       "<path d=\"M77,-238.697C77,-230.983 77,-221.712 77,-213.112\" fill=\"none\" stroke=\"black\"/>\n",
       "<polygon fill=\"black\" points=\"80.5001,-213.104 77,-203.104 73.5001,-213.104 80.5001,-213.104\" stroke=\"black\"/>\n",
       "</g>\n",
       "<!-- LABOR_GROWTH -->\n",
       "<g class=\"node\" id=\"node9\"><title>LABOR_GROWTH</title>\n",
       "<g id=\"a_node9\"><a xlink:title=\"LABOR_GROWTH\">\n",
       "<polygon fill=\"yellow\" points=\"475.5,-275 342.5,-275 342.5,-239 475.5,-239 475.5,-275\" stroke=\"black\"/>\n",
       "<text fill=\"blue\" font-family=\"Times New Roman,serif\" font-size=\"14.00\" text-anchor=\"start\" x=\"349\" y=\"-252.8\">LABOR_GROWTH:</text>\n",
       "</a>\n",
       "</g>\n",
       "</g>\n",
       "<!-- LABOR_GROWTH&#45;&gt;L -->\n",
       "<g class=\"edge\" id=\"edge15\"><title>LABOR_GROWTH-&gt;L</title>\n",
       "<path d=\"M399.112,-238.697C394.511,-230.644 388.94,-220.894 383.847,-211.982\" fill=\"none\" stroke=\"black\"/>\n",
       "<polygon fill=\"black\" points=\"386.774,-210.05 378.774,-203.104 380.696,-213.523 386.774,-210.05\" stroke=\"black\"/>\n",
       "</g>\n",
       "<!-- K&#45;&gt;Y -->\n",
       "<g class=\"edge\" id=\"edge12\"><title>K-&gt;Y</title>\n",
       "<path d=\"M104.048,-171.017C107.057,-169.635 110.086,-168.272 113,-167 144.81,-153.118 181.478,-138.504 208.082,-128.146\" fill=\"none\" stroke=\"black\"/>\n",
       "<polygon fill=\"black\" points=\"209.696,-131.274 217.754,-124.395 207.165,-124.747 209.696,-131.274\" stroke=\"black\"/>\n",
       "</g>\n",
       "<!-- K&#45;&gt;K_INTENSE -->\n",
       "<g class=\"edge\" id=\"edge14\"><title>K-&gt;K_INTENSE</title>\n",
       "<path d=\"M69.0315,-166.864C61.3569,-147.554 52.9376,-116.113 68,-95 90.1947,-63.8893 131.88,-50.8557 166.289,-45.4831\" fill=\"none\" stroke=\"black\"/>\n",
       "<polygon fill=\"black\" points=\"166.814,-48.9438 176.24,-44.106 165.855,-42.0099 166.814,-48.9438\" stroke=\"black\"/>\n",
       "</g>\n",
       "<!-- K(&#45;1) -->\n",
       "<g class=\"node\" id=\"node11\"><title>K(-1)</title>\n",
       "<g id=\"a_node11\"><a xlink:title=\"K\">\n",
       "<polygon fill=\"springgreen\" points=\"132.5,-131 77.5,-131 77.5,-95 132.5,-95 132.5,-131\" stroke=\"black\"/>\n",
       "<text fill=\"blue\" font-family=\"Times New Roman,serif\" font-size=\"14.00\" text-anchor=\"start\" x=\"84\" y=\"-108.8\">K(-1):K</text>\n",
       "</a>\n",
       "</g>\n",
       "</g>\n",
       "<!-- K&#45;&gt;K(&#45;1) -->\n",
       "<g class=\"edge\" id=\"edge10\"><title>K-&gt;K(-1)</title>\n",
       "<path d=\"M78.0056,-166.697C80.371,-158.728 84.0079,-149.1 87.9348,-140.264\" fill=\"none\" stroke=\"black\"/>\n",
       "<polygon fill=\"black\" points=\"91.1552,-141.641 92.2632,-131.104 84.8262,-138.65 91.1552,-141.641\" stroke=\"black\"/>\n",
       "</g>\n",
       "<!-- K(&#45;1)&#45;&gt;K -->\n",
       "<g class=\"edge\" id=\"edge16\"><title>K(-1)-&gt;K</title>\n",
       "<path d=\"M104.053,-131.104C101.709,-139.045 98.0854,-148.666 94.1634,-157.515\" fill=\"none\" stroke=\"black\"/>\n",
       "<polygon fill=\"black\" points=\"90.9333,-156.159 89.8371,-166.697 97.2656,-159.142 90.9333,-156.159\" stroke=\"black\"/>\n",
       "</g>\n",
       "<!-- I&#45;&gt;K -->\n",
       "<g class=\"edge\" id=\"edge3\"><title>I-&gt;K</title>\n",
       "<path d=\"M231.802,-246.974C204.107,-237.599 159.804,-222.099 113.326,-202.958\" fill=\"none\" stroke=\"black\"/>\n",
       "<polygon fill=\"black\" points=\"114.583,-199.691 104.006,-199.082 111.895,-206.154 114.583,-199.691\" stroke=\"black\"/>\n",
       "</g>\n",
       "<!-- A -->\n",
       "<g class=\"node\" id=\"node13\"><title>A</title>\n",
       "<g id=\"a_node13\"><a xlink:title=\"A\">\n",
       "<polygon fill=\"yellow\" points=\"248,-203 194,-203 194,-167 248,-167 248,-203\" stroke=\"black\"/>\n",
       "<text fill=\"blue\" font-family=\"Times New Roman,serif\" font-size=\"14.00\" text-anchor=\"start\" x=\"215\" y=\"-180.8\">A:</text>\n",
       "</a>\n",
       "</g>\n",
       "</g>\n",
       "<!-- A&#45;&gt;Y -->\n",
       "<g class=\"edge\" id=\"edge5\"><title>A-&gt;Y</title>\n",
       "<path d=\"M226.933,-166.697C229.606,-158.898 232.826,-149.509 235.801,-140.829\" fill=\"none\" stroke=\"black\"/>\n",
       "<polygon fill=\"black\" points=\"239.203,-141.699 239.136,-131.104 232.582,-139.429 239.203,-141.699\" stroke=\"black\"/>\n",
       "</g>\n",
       "</g>\n",
       "</svg>"
      ],
      "text/plain": [
       "<IPython.core.display.SVG object>"
      ]
     },
     "metadata": {},
     "output_type": "display_data"
    }
   ],
   "source": [
    "msolow.drawmodel(sink = 'K_INTENSE',size=(5,5))"
   ]
  },
  {
   "cell_type": "markdown",
   "metadata": {
    "slideshow": {
     "slide_type": "slide"
    }
   },
   "source": [
    "# Show solving structure (only current year)"
   ]
  },
  {
   "cell_type": "code",
   "execution_count": 26,
   "metadata": {
    "cell_style": "split",
    "slideshow": {
     "slide_type": "subslide"
    }
   },
   "outputs": [
    {
     "data": {
      "image/svg+xml": [
       "<svg height=\"360pt\" viewBox=\"0.00 0.00 178.74 360.00\" width=\"179pt\" xmlns=\"http://www.w3.org/2000/svg\" xmlns:xlink=\"http://www.w3.org/1999/xlink\">\n",
       "<g class=\"graph\" id=\"graph0\" transform=\"scale(0.843091 0.843091) rotate(0) translate(4 423)\">\n",
       "<title>TD</title>\n",
       "<polygon fill=\"white\" points=\"-4,4 -4,-423 208,-423 208,4 -4,4\" stroke=\"none\"/>\n",
       "<text font-family=\"Times New Roman,serif\" font-size=\"14.00\" text-anchor=\"middle\" x=\"102\" y=\"-7.8\">A_model_graph</text>\n",
       "<!-- C -->\n",
       "<g class=\"node\" id=\"node1\"><title>C</title>\n",
       "<g id=\"a_node1\"><a xlink:title=\"C\">\n",
       "<polygon fill=\"#63b8ff\" points=\"111,-347 57,-347 57,-311 111,-311 111,-347\" stroke=\"black\"/>\n",
       "<text fill=\"blue\" font-family=\"Times New Roman,serif\" font-size=\"14.00\" text-anchor=\"start\" x=\"78\" y=\"-324.8\">C:</text>\n",
       "</a>\n",
       "</g>\n",
       "</g>\n",
       "<!-- I -->\n",
       "<g class=\"node\" id=\"node6\"><title>I</title>\n",
       "<g id=\"a_node6\"><a xlink:title=\"I\">\n",
       "<polygon fill=\"#63b8ff\" points=\"92,-275 38,-275 38,-239 92,-239 92,-275\" stroke=\"black\"/>\n",
       "<text fill=\"blue\" font-family=\"Times New Roman,serif\" font-size=\"14.00\" text-anchor=\"start\" x=\"61\" y=\"-252.8\">I:</text>\n",
       "</a>\n",
       "</g>\n",
       "</g>\n",
       "<!-- C&#45;&gt;I -->\n",
       "<g class=\"edge\" id=\"edge1\"><title>C-&gt;I</title>\n",
       "<path d=\"M79.3034,-310.697C77.1866,-302.898 74.638,-293.509 72.2822,-284.829\" fill=\"none\" stroke=\"black\"/>\n",
       "<polygon fill=\"black\" points=\"75.64,-283.838 69.6426,-275.104 68.8844,-285.672 75.64,-283.838\" stroke=\"black\"/>\n",
       "</g>\n",
       "<!-- Y -->\n",
       "<g class=\"node\" id=\"node2\"><title>Y</title>\n",
       "<g id=\"a_node2\"><a xlink:title=\"Y\">\n",
       "<polygon fill=\"#63b8ff\" points=\"128,-131 74,-131 74,-95 128,-95 128,-131\" stroke=\"black\"/>\n",
       "<text fill=\"blue\" font-family=\"Times New Roman,serif\" font-size=\"14.00\" text-anchor=\"start\" x=\"95\" y=\"-108.8\">Y:</text>\n",
       "</a>\n",
       "</g>\n",
       "</g>\n",
       "<!-- Y&#45;&gt;C -->\n",
       "<g class=\"edge\" id=\"edge2\"><title>Y-&gt;C</title>\n",
       "<path d=\"M102.719,-131.055C105.315,-160.591 109.123,-223.083 101,-275 99.6408,-283.688 97.0998,-292.896 94.389,-301.157\" fill=\"none\" stroke=\"black\"/>\n",
       "<polygon fill=\"black\" points=\"91.0612,-300.07 91.0661,-310.665 97.6693,-302.38 91.0612,-300.07\" stroke=\"black\"/>\n",
       "</g>\n",
       "<!-- Y&#45;&gt;I -->\n",
       "<g class=\"edge\" id=\"edge4\"><title>Y-&gt;I</title>\n",
       "<path d=\"M96.6422,-131.189C90.471,-155.531 79.1263,-200.28 71.8302,-229.059\" fill=\"none\" stroke=\"black\"/>\n",
       "<polygon fill=\"black\" points=\"68.4073,-228.318 69.3424,-238.871 75.1927,-230.038 68.4073,-228.318\" stroke=\"black\"/>\n",
       "</g>\n",
       "<!-- L -->\n",
       "<g class=\"node\" id=\"node3\"><title>L</title>\n",
       "<g id=\"a_node3\"><a xlink:title=\"L\">\n",
       "<polygon fill=\"#63b8ff\" points=\"204,-419 150,-419 150,-383 204,-383 204,-419\" stroke=\"black\"/>\n",
       "<text fill=\"blue\" font-family=\"Times New Roman,serif\" font-size=\"14.00\" text-anchor=\"start\" x=\"171\" y=\"-396.8\">L:</text>\n",
       "</a>\n",
       "</g>\n",
       "</g>\n",
       "<!-- L&#45;&gt;Y -->\n",
       "<g class=\"edge\" id=\"edge7\"><title>L-&gt;Y</title>\n",
       "<path d=\"M173.261,-382.913C164.68,-344.209 142.495,-246.993 119,-167 116.469,-158.383 113.419,-149.08 110.556,-140.709\" fill=\"none\" stroke=\"black\"/>\n",
       "<polygon fill=\"black\" points=\"113.794,-139.365 107.202,-131.07 107.182,-141.665 113.794,-139.365\" stroke=\"black\"/>\n",
       "</g>\n",
       "<!-- K_INTENSE -->\n",
       "<g class=\"node\" id=\"node4\"><title>K_INTENSE</title>\n",
       "<g id=\"a_node4\"><a xlink:title=\"K_INTENSE\">\n",
       "<polygon fill=\"#63b8ff\" points=\"161.5,-59 70.5,-59 70.5,-23 161.5,-23 161.5,-59\" stroke=\"black\"/>\n",
       "<text fill=\"blue\" font-family=\"Times New Roman,serif\" font-size=\"14.00\" text-anchor=\"start\" x=\"77\" y=\"-36.8\">K_INTENSE:</text>\n",
       "</a>\n",
       "</g>\n",
       "</g>\n",
       "<!-- L&#45;&gt;K_INTENSE -->\n",
       "<g class=\"edge\" id=\"edge5\"><title>L-&gt;K_INTENSE</title>\n",
       "<path d=\"M180.845,-382.612C186.397,-355.942 196,-303.268 196,-258 196,-258 196,-258 196,-184 196,-138.099 163.877,-93.3518 140.342,-66.7273\" fill=\"none\" stroke=\"black\"/>\n",
       "<polygon fill=\"black\" points=\"142.682,-64.0985 133.359,-59.0651 137.508,-68.8137 142.682,-64.0985\" stroke=\"black\"/>\n",
       "</g>\n",
       "<!-- K -->\n",
       "<g class=\"node\" id=\"node5\"><title>K</title>\n",
       "<g id=\"a_node5\"><a xlink:title=\"K\">\n",
       "<polygon fill=\"#63b8ff\" points=\"54,-203 0,-203 0,-167 54,-167 54,-203\" stroke=\"black\"/>\n",
       "<text fill=\"blue\" font-family=\"Times New Roman,serif\" font-size=\"14.00\" text-anchor=\"start\" x=\"21\" y=\"-180.8\">K:</text>\n",
       "</a>\n",
       "</g>\n",
       "</g>\n",
       "<!-- K&#45;&gt;Y -->\n",
       "<g class=\"edge\" id=\"edge6\"><title>K-&gt;Y</title>\n",
       "<path d=\"M45.2921,-166.697C54.4326,-158.05 65.6401,-147.449 75.6,-138.027\" fill=\"none\" stroke=\"black\"/>\n",
       "<polygon fill=\"black\" points=\"78.0588,-140.519 82.9183,-131.104 73.2484,-135.434 78.0588,-140.519\" stroke=\"black\"/>\n",
       "</g>\n",
       "<!-- K&#45;&gt;K_INTENSE -->\n",
       "<g class=\"edge\" id=\"edge8\"><title>K-&gt;K_INTENSE</title>\n",
       "<path d=\"M32.302,-166.68C38.4715,-148.038 49.7884,-117.974 65,-95 71.7612,-84.7887 80.6143,-74.7898 89.043,-66.2773\" fill=\"none\" stroke=\"black\"/>\n",
       "<polygon fill=\"black\" points=\"91.5691,-68.7025 96.2775,-59.2114 86.678,-63.6948 91.5691,-68.7025\" stroke=\"black\"/>\n",
       "</g>\n",
       "<!-- I&#45;&gt;K -->\n",
       "<g class=\"edge\" id=\"edge3\"><title>I-&gt;K</title>\n",
       "<path d=\"M55.6067,-238.697C51.2351,-230.644 45.9427,-220.894 41.1047,-211.982\" fill=\"none\" stroke=\"black\"/>\n",
       "<polygon fill=\"black\" points=\"44.1322,-210.223 36.2852,-203.104 37.9802,-213.563 44.1322,-210.223\" stroke=\"black\"/>\n",
       "</g>\n",
       "</g>\n",
       "</svg>"
      ],
      "text/plain": [
       "<IPython.core.display.SVG object>"
      ]
     },
     "metadata": {},
     "output_type": "display_data"
    }
   ],
   "source": [
    "msolow.drawendo(sink = 'K_INTENSE',source='L',size=(5,5))"
   ]
  },
  {
   "cell_type": "code",
   "execution_count": 24,
   "metadata": {
    "cell_style": "split"
   },
   "outputs": [
    {
     "data": {
      "image/png": "[encoded data removed]",
      "text/plain": [
       "<Figure size 360x360 with 1 Axes>"
      ]
     },
     "metadata": {
      "needs_background": "light"
     },
     "output_type": "display_data"
    }
   ],
   "source": [
    "msolow.plotadjacency();"
   ]
  },
  {
   "cell_type": "markdown",
   "metadata": {
    "code_folding": [],
    "slideshow": {
     "slide_type": "slide"
    }
   },
   "source": [
    "# Create DataFrame with baseline exogenous "
   ]
  },
  {
   "cell_type": "code",
   "execution_count": 6,
   "metadata": {
    "slideshow": {
     "slide_type": "-"
    }
   },
   "outputs": [
    {
     "data": {
      "text/html": [
       "<div>\n",
       "<style scoped>\n",
       "    .dataframe tbody tr th:only-of-type {\n",
       "        vertical-align: middle;\n",
       "    }\n",
       "\n",
       "    .dataframe tbody tr th {\n",
       "        vertical-align: top;\n",
       "    }\n",
       "\n",
       "    .dataframe thead th {\n",
       "        text-align: right;\n",
       "    }\n",
       "</style>\n",
       "<table border=\"1\" class=\"dataframe\">\n",
       "  <thead>\n",
       "    <tr style=\"text-align: right;\">\n",
       "      <th></th>\n",
       "      <th>L</th>\n",
       "      <th>K</th>\n",
       "      <th>ALFA</th>\n",
       "      <th>A</th>\n",
       "      <th>DEPRECIATES_RATE</th>\n",
       "      <th>LABOR_GROWTH</th>\n",
       "      <th>SAVING_RATIO</th>\n",
       "    </tr>\n",
       "  </thead>\n",
       "  <tbody>\n",
       "    <tr>\n",
       "      <th>0</th>\n",
       "      <td>100</td>\n",
       "      <td>100</td>\n",
       "      <td>0.5</td>\n",
       "      <td>1.0</td>\n",
       "      <td>0.05</td>\n",
       "      <td>0.01</td>\n",
       "      <td>0.05</td>\n",
       "    </tr>\n",
       "    <tr>\n",
       "      <th>1</th>\n",
       "      <td>100</td>\n",
       "      <td>100</td>\n",
       "      <td>0.5</td>\n",
       "      <td>1.0</td>\n",
       "      <td>0.05</td>\n",
       "      <td>0.01</td>\n",
       "      <td>0.05</td>\n",
       "    </tr>\n",
       "    <tr>\n",
       "      <th>2</th>\n",
       "      <td>100</td>\n",
       "      <td>100</td>\n",
       "      <td>0.5</td>\n",
       "      <td>1.0</td>\n",
       "      <td>0.05</td>\n",
       "      <td>0.01</td>\n",
       "      <td>0.05</td>\n",
       "    </tr>\n",
       "    <tr>\n",
       "      <th>3</th>\n",
       "      <td>100</td>\n",
       "      <td>100</td>\n",
       "      <td>0.5</td>\n",
       "      <td>1.0</td>\n",
       "      <td>0.05</td>\n",
       "      <td>0.01</td>\n",
       "      <td>0.05</td>\n",
       "    </tr>\n",
       "    <tr>\n",
       "      <th>4</th>\n",
       "      <td>100</td>\n",
       "      <td>100</td>\n",
       "      <td>0.5</td>\n",
       "      <td>1.0</td>\n",
       "      <td>0.05</td>\n",
       "      <td>0.01</td>\n",
       "      <td>0.05</td>\n",
       "    </tr>\n",
       "  </tbody>\n",
       "</table>\n",
       "</div>"
      ],
      "text/plain": [
       "     L    K  ALFA    A  DEPRECIATES_RATE  LABOR_GROWTH  SAVING_RATIO\n",
       "0  100  100   0.5  1.0              0.05          0.01          0.05\n",
       "1  100  100   0.5  1.0              0.05          0.01          0.05\n",
       "2  100  100   0.5  1.0              0.05          0.01          0.05\n",
       "3  100  100   0.5  1.0              0.05          0.01          0.05\n",
       "4  100  100   0.5  1.0              0.05          0.01          0.05"
      ]
     },
     "metadata": {},
     "output_type": "display_data"
    }
   ],
   "source": [
    "N = 300  \n",
    "df = pd.DataFrame({'L':[100]*N,'K':[100]*N})\n",
    "df.loc[:,'ALFA'] = 0.5\n",
    "df.loc[:,'A'] = 1.\n",
    "df.loc[:,'DEPRECIATES_RATE'] = 0.05\n",
    "df.loc[:,'LABOR_GROWTH'] = 0.01\n",
    "df.loc[:,'SAVING_RATIO'] = 0.05\n",
    "display(df.head())"
   ]
  },
  {
   "cell_type": "markdown",
   "metadata": {
    "slideshow": {
     "slide_type": "slide"
    }
   },
   "source": [
    "# Run Baseline"
   ]
  },
  {
   "cell_type": "code",
   "execution_count": 7,
   "metadata": {
    "slideshow": {
     "slide_type": "-"
    }
   },
   "outputs": [
    {
     "data": {
      "text/html": [
       "<div>\n",
       "<style scoped>\n",
       "    .dataframe tbody tr th:only-of-type {\n",
       "        vertical-align: middle;\n",
       "    }\n",
       "\n",
       "    .dataframe tbody tr th {\n",
       "        vertical-align: top;\n",
       "    }\n",
       "\n",
       "    .dataframe thead th {\n",
       "        text-align: right;\n",
       "    }\n",
       "</style>\n",
       "<table border=\"1\" class=\"dataframe\">\n",
       "  <thead>\n",
       "    <tr style=\"text-align: right;\">\n",
       "      <th></th>\n",
       "      <th>L</th>\n",
       "      <th>K</th>\n",
       "      <th>ALFA</th>\n",
       "      <th>A</th>\n",
       "      <th>DEPRECIATES_RATE</th>\n",
       "      <th>LABOR_GROWTH</th>\n",
       "      <th>SAVING_RATIO</th>\n",
       "      <th>C</th>\n",
       "      <th>Y</th>\n",
       "      <th>I</th>\n",
       "      <th>K_INTENSE</th>\n",
       "    </tr>\n",
       "  </thead>\n",
       "  <tbody>\n",
       "    <tr>\n",
       "      <th>0</th>\n",
       "      <td>100.000000</td>\n",
       "      <td>100.000000</td>\n",
       "      <td>0.5</td>\n",
       "      <td>1.0</td>\n",
       "      <td>0.05</td>\n",
       "      <td>0.01</td>\n",
       "      <td>0.05</td>\n",
       "      <td>0.000000</td>\n",
       "      <td>0.000000</td>\n",
       "      <td>0.000000</td>\n",
       "      <td>0.000000</td>\n",
       "    </tr>\n",
       "    <tr>\n",
       "      <th>1</th>\n",
       "      <td>101.000000</td>\n",
       "      <td>100.025580</td>\n",
       "      <td>0.5</td>\n",
       "      <td>1.0</td>\n",
       "      <td>0.05</td>\n",
       "      <td>0.01</td>\n",
       "      <td>0.05</td>\n",
       "      <td>95.486029</td>\n",
       "      <td>100.511609</td>\n",
       "      <td>5.025580</td>\n",
       "      <td>0.990352</td>\n",
       "    </tr>\n",
       "    <tr>\n",
       "      <th>2</th>\n",
       "      <td>102.010000</td>\n",
       "      <td>100.076226</td>\n",
       "      <td>0.5</td>\n",
       "      <td>1.0</td>\n",
       "      <td>0.05</td>\n",
       "      <td>0.01</td>\n",
       "      <td>0.05</td>\n",
       "      <td>95.986562</td>\n",
       "      <td>101.038487</td>\n",
       "      <td>5.051924</td>\n",
       "      <td>0.981043</td>\n",
       "    </tr>\n",
       "    <tr>\n",
       "      <th>3</th>\n",
       "      <td>103.030100</td>\n",
       "      <td>100.151443</td>\n",
       "      <td>0.5</td>\n",
       "      <td>1.0</td>\n",
       "      <td>0.05</td>\n",
       "      <td>0.01</td>\n",
       "      <td>0.05</td>\n",
       "      <td>96.501546</td>\n",
       "      <td>101.580575</td>\n",
       "      <td>5.079029</td>\n",
       "      <td>0.972060</td>\n",
       "    </tr>\n",
       "    <tr>\n",
       "      <th>4</th>\n",
       "      <td>104.060401</td>\n",
       "      <td>100.250762</td>\n",
       "      <td>0.5</td>\n",
       "      <td>1.0</td>\n",
       "      <td>0.05</td>\n",
       "      <td>0.01</td>\n",
       "      <td>0.05</td>\n",
       "      <td>97.030930</td>\n",
       "      <td>102.137821</td>\n",
       "      <td>5.106891</td>\n",
       "      <td>0.963390</td>\n",
       "    </tr>\n",
       "  </tbody>\n",
       "</table>\n",
       "</div>"
      ],
      "text/plain": [
       "            L           K  ALFA    A  DEPRECIATES_RATE  LABOR_GROWTH  \\\n",
       "0  100.000000  100.000000   0.5  1.0              0.05          0.01   \n",
       "1  101.000000  100.025580   0.5  1.0              0.05          0.01   \n",
       "2  102.010000  100.076226   0.5  1.0              0.05          0.01   \n",
       "3  103.030100  100.151443   0.5  1.0              0.05          0.01   \n",
       "4  104.060401  100.250762   0.5  1.0              0.05          0.01   \n",
       "\n",
       "   SAVING_RATIO          C           Y         I  K_INTENSE  \n",
       "0          0.05   0.000000    0.000000  0.000000   0.000000  \n",
       "1          0.05  95.486029  100.511609  5.025580   0.990352  \n",
       "2          0.05  95.986562  101.038487  5.051924   0.981043  \n",
       "3          0.05  96.501546  101.580575  5.079029   0.972060  \n",
       "4          0.05  97.030930  102.137821  5.106891   0.963390  "
      ]
     },
     "metadata": {},
     "output_type": "display_data"
    }
   ],
   "source": [
    "res1 = msolow(df)\n",
    "display(res1.head())"
   ]
  },
  {
   "cell_type": "markdown",
   "metadata": {
    "slideshow": {
     "slide_type": "slide"
    }
   },
   "source": [
    "# Create interactive widgets \n",
    "If you are not familiar with Python and Ipywidgets, don't try to understand the code. \n",
    "Just notice that it is fairly short. \n",
    "\n",
    "You can try different parameter values"
   ]
  },
  {
   "cell_type": "code",
   "execution_count": 8,
   "metadata": {},
   "outputs": [
    {
     "data": {
      "application/vnd.jupyter.widget-view+json": {
       "model_id": "51a236f8cc314c08bd7bce105b1fed91",
       "version_major": 2,
       "version_minor": 0
      },
      "text/plain": [
       "VBox(children=(HBox(children=(Label(value='Input new parameter ', layout=Layout(width='52%')), Label(value='Al…"
      ]
     },
     "metadata": {},
     "output_type": "display_data"
    },
    {
     "data": {
      "application/vnd.jupyter.widget-view+json": {
       "model_id": "85c4f5dc132a44df8552e7379e6b00bc",
       "version_major": 2,
       "version_minor": 0
      },
      "text/plain": [
       "VBox(children=(Tab(children=(VBox(children=(Tab(children=(Output(), Output(), Output(), Output()), _titles={'0…"
      ]
     },
     "metadata": {},
     "output_type": "display_data"
    }
   ],
   "source": [
    "slidedef =      {'Productivity'     : {'var':'ALFA',             'value': 0.5 ,'min':0.0, 'max':1.0},\n",
    "                 'DEPRECIATES_RATE' : {'var':'DEPRECIATES_RATE', 'value': 0.05,'min':0.0, 'max':1.0}, \n",
    "                 'LABOR_GROWTH'     : {'var':'LABOR_GROWTH',     'value': 0.01,'min':0.0, 'max':1.0},\n",
    "                 'SAVING_RATIO'     : {'var': 'SAVING_RATIO',    'value': 0.05,'min':0.0, 'max':1.0}\n",
    "                        }       \n",
    "\n",
    "input = msolow.inputwidget(basedf=res1,slidedef=slidedef,showout=True,varpat='Y C I K L K_INTENSE')"
   ]
  },
  {
   "cell_type": "code",
   "execution_count": null,
   "metadata": {},
   "outputs": [],
   "source": []
  }
 ],
 "metadata": {
  "celltoolbar": "Slideshow",
  "kernelspec": {
   "display_name": "Python 3",
   "language": "python",
   "name": "python3"
  },
  "language_info": {
   "codemirror_mode": {
    "name": "ipython",
    "version": 3
   },
   "file_extension": ".py",
   "mimetype": "text/x-python",
   "name": "python",
   "nbconvert_exporter": "python",
   "pygments_lexer": "ipython3",
   "version": "3.7.5"
  },
  "toc": {
   "base_numbering": 1,
   "nav_menu": {},
   "number_sections": true,
   "sideBar": true,
   "skip_h1_title": false,
   "title_cell": "Table of Contents",
   "title_sidebar": "Contents",
   "toc_cell": false,
   "toc_position": {},
   "toc_section_display": true,
   "toc_window_display": false
  },
  "varInspector": {
   "cols": {
    "lenName": 16,
    "lenType": 16,
    "lenVar": 40
   },
   "kernels_config": {
    "python": {
     "delete_cmd_postfix": "",
     "delete_cmd_prefix": "del ",
     "library": "var_list.py",
     "varRefreshCmd": "print(var_dic_list())"
    },
    "r": {
     "delete_cmd_postfix": ") ",
     "delete_cmd_prefix": "rm(",
     "library": "var_list.r",
     "varRefreshCmd": "cat(var_dic_list()) "
    }
   },
   "oldHeight": 122.4,
   "position": {
    "height": "143.68px",
    "left": "945.36px",
    "right": "20px",
    "top": "120px",
    "width": "250px"
   },
   "types_to_exclude": [
    "module",
    "function",
    "builtin_function_or_method",
    "instance",
    "_Feature"
   ],
   "varInspector_section_display": "block",
   "window_display": false
  }
 },
 "nbformat": 4,
 "nbformat_minor": 4
}
